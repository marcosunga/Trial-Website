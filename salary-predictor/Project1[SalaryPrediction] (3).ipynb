{
 "cells": [
  {
   "cell_type": "code",
   "execution_count": 19,
   "id": "82876564-a7aa-4321-a9a1-300ec84033a9",
   "metadata": {},
   "outputs": [],
   "source": [
    "import pandas as pd\n",
    "import matplotlib.pyplot as plt\n",
    "import numpy as np\n",
    "from sklearn.preprocessing import LabelEncoder\n",
    "from sklearn.linear_model import LinearRegression\n",
    "from sklearn.tree import DecisionTreeRegressor\n",
    "from sklearn.ensemble import RandomForestRegressor\n",
    "from sklearn.model_selection import GridSearchCV\n",
    "from sklearn.metrics import mean_squared_error\n",
    "import pickle\n",
    "\n",
    "# Load data\n",
    "df = pd.read_csv(r\"C:\\Users\\user\\OneDrive\\Desktop\\Project1_SalaryPrediction2020\\survey_results_public.csv\")\n"
   ]
  },
  {
   "cell_type": "code",
   "execution_count": 20,
   "id": "16797fd8-7f8c-423d-876d-c1d7dc06bb47",
   "metadata": {},
   "outputs": [],
   "source": [
    "\n",
    "# Select relevant columns\n",
    "df = df[[\"Country\", \"EdLevel\", \"YearsCodePro\", \"Employment\", \"ConvertedComp\"]]\n",
    "df = df.rename(columns={\"ConvertedComp\": \"Salary\"})\n",
    "df = df[df[\"Salary\"].notnull()]\n",
    "df = df.dropna()\n",
    "df = df[df[\"Employment\"] == \"Employed full-time\"]\n",
    "df = df.drop(\"Employment\", axis=1)\n"
   ]
  },
  {
   "cell_type": "code",
   "execution_count": 21,
   "id": "0c5e7739-a86a-469c-90ac-00cf74d2c808",
   "metadata": {},
   "outputs": [],
   "source": [
    "\n",
    "# Simplify country categories\n",
    "def shorten_categories(categories, cutoff):\n",
    "    return {cat: (cat if count >= cutoff else \"Other\") for cat, count in categories.items()}\n",
    "\n",
    "country_map = shorten_categories(df.Country.value_counts(), 400)\n",
    "df['Country'] = df['Country'].map(country_map)\n",
    "df = df[df['Country'] != 'Other']\n",
    "df = df[df[\"Salary\"].between(10000, 250000)]\n"
   ]
  },
  {
   "cell_type": "code",
   "execution_count": 22,
   "id": "66414bb4-a70a-4935-a672-bddbfdc0e909",
   "metadata": {},
   "outputs": [],
   "source": [
    "\n",
    "# Clean YearsCodePro\n",
    "def clean_experience(x):\n",
    "    if x == \"More than 50 years\":\n",
    "        return 50\n",
    "    elif x == \"Less than 1 year\":\n",
    "        return 0.5\n",
    "    return pd.to_numeric(x, errors='coerce')\n",
    "\n",
    "df[\"YearsCodePro\"] = df[\"YearsCodePro\"].apply(clean_experience)\n",
    "df = df.dropna()\n"
   ]
  },
  {
   "cell_type": "code",
   "execution_count": 23,
   "id": "2e8fe5bb-7083-4e2c-96de-a499b8f24a39",
   "metadata": {},
   "outputs": [],
   "source": [
    "\n",
    "# Clean EdLevel\n",
    "def clean_education(x):\n",
    "    if \"Bachelor’s degree\" in x:\n",
    "        return \"Bachelor’s degree\"\n",
    "    elif \"Master’s degree\" in x:\n",
    "        return \"Master’s degree\"\n",
    "    elif \"Professional degree\" in x or \"Other doctoral\" in x:\n",
    "        return \"Post grad\"\n",
    "    else:\n",
    "        return \"Less than a Bachelors\"\n",
    "\n",
    "df[\"EdLevel\"] = df[\"EdLevel\"].apply(clean_education)"
   ]
  },
  {
   "cell_type": "code",
   "execution_count": 24,
   "id": "1cf50de1-59bc-4e1a-9a7e-a5dbbdc773a0",
   "metadata": {},
   "outputs": [],
   "source": [
    "\n",
    "# Encode categorical columns\n",
    "le_country = LabelEncoder()\n",
    "le_education = LabelEncoder()\n",
    "df[\"Country\"] = le_country.fit_transform(df[\"Country\"])\n",
    "df[\"EdLevel\"] = le_education.fit_transform(df[\"EdLevel\"])\n"
   ]
  },
  {
   "cell_type": "code",
   "execution_count": 25,
   "id": "b97b17f3-b981-4dac-9a1e-ce1bb6806815",
   "metadata": {},
   "outputs": [],
   "source": [
    "\n",
    "# Prepare data\n",
    "X = df.drop(\"Salary\", axis=1)\n",
    "y = df[\"Salary\"]\n"
   ]
  },
  {
   "cell_type": "code",
   "execution_count": 26,
   "id": "e4ef8e56-be4a-41df-a984-8f2e670c125f",
   "metadata": {},
   "outputs": [
    {
     "name": "stdout",
     "output_type": "stream",
     "text": [
      "Linear Regression RMSE: 39274.75368318509\n"
     ]
    }
   ],
   "source": [
    "\n",
    "# Train models\n",
    "linear_reg = LinearRegression()\n",
    "linear_reg.fit(X, y)\n",
    "print(\"Linear Regression RMSE:\", np.sqrt(mean_squared_error(y, linear_reg.predict(X))))"
   ]
  },
  {
   "cell_type": "code",
   "execution_count": 27,
   "id": "2064e5ab-7a42-4ffa-9a54-056a24a5929c",
   "metadata": {},
   "outputs": [
    {
     "name": "stdout",
     "output_type": "stream",
     "text": [
      "Decision Tree RMSE: 29414.938206831015\n"
     ]
    }
   ],
   "source": [
    "\n",
    "dec_tree_reg = DecisionTreeRegressor(random_state=0)\n",
    "dec_tree_reg.fit(X, y)\n",
    "print(\"Decision Tree RMSE:\", np.sqrt(mean_squared_error(y, dec_tree_reg.predict(X))))\n"
   ]
  },
  {
   "cell_type": "code",
   "execution_count": 28,
   "id": "4afe8d57-5804-4f01-8079-9ab9b57b3dd0",
   "metadata": {},
   "outputs": [
    {
     "name": "stdout",
     "output_type": "stream",
     "text": [
      "Random Forest RMSE: 29487.30868635557\n"
     ]
    }
   ],
   "source": [
    "\n",
    "random_forest_reg = RandomForestRegressor(random_state=0)\n",
    "random_forest_reg.fit(X, y)\n",
    "print(\"Random Forest RMSE:\", np.sqrt(mean_squared_error(y, random_forest_reg.predict(X))))\n"
   ]
  },
  {
   "cell_type": "code",
   "execution_count": 29,
   "id": "bd643be9-f79d-41d1-b3f8-e2bc3e477d2e",
   "metadata": {},
   "outputs": [
    {
     "name": "stdout",
     "output_type": "stream",
     "text": [
      "Tuned Decision Tree RMSE: 30428.508362980854\n"
     ]
    }
   ],
   "source": [
    "\n",
    "# GridSearchCV for Decision Tree\n",
    "params = {\"max_depth\": [None, 2, 4, 6, 8, 10, 12]}\n",
    "gs = GridSearchCV(DecisionTreeRegressor(random_state=0), params, scoring=\"neg_mean_squared_error\")\n",
    "gs.fit(X, y)\n",
    "regressor = gs.best_estimator_\n",
    "print(\"Tuned Decision Tree RMSE:\", np.sqrt(mean_squared_error(y, regressor.predict(X))))\n"
   ]
  },
  {
   "cell_type": "code",
   "execution_count": 30,
   "id": "2f2f509f-d97a-4eca-a1c2-29509895bd8e",
   "metadata": {},
   "outputs": [],
   "source": [
    "\n",
    "# Save model and encoders\n",
    "model_data = {\"model\": regressor, \"le_country\": le_country, \"le_education\": le_education}\n",
    "with open(\"saved_steps.pkl\", \"wb\") as f:\n",
    "    pickle.dump(model_data, f)\n"
   ]
  },
  {
   "cell_type": "code",
   "execution_count": 31,
   "id": "9201c5d6-a253-4b27-aafb-b6d8f23d3cf0",
   "metadata": {},
   "outputs": [],
   "source": [
    "\n",
    "# Load model and predict example\n",
    "with open(\"saved_steps.pkl\", \"rb\") as f:\n",
    "    data = pickle.load(f)\n",
    "\n",
    "regressor_loaded = data[\"model\"]\n",
    "le_country = data[\"le_country\"]\n",
    "le_education = data[\"le_education\"]\n"
   ]
  },
  {
   "cell_type": "code",
   "execution_count": 32,
   "id": "afb7f451-486f-4888-8c87-cbbe562579f6",
   "metadata": {},
   "outputs": [
    {
     "name": "stdout",
     "output_type": "stream",
     "text": [
      "Predicted Salary: $139,427.26\n"
     ]
    }
   ],
   "source": [
    "\n",
    "# Predict sample\n",
    "def preprocess_input(country, education, years_exp):\n",
    "    X = pd.DataFrame([[country, education, years_exp]], columns=[\"Country\", \"EdLevel\", \"YearsCodePro\"])\n",
    "    X[\"Country\"] = le_country.transform(X[\"Country\"])\n",
    "    X[\"EdLevel\"] = le_education.transform(X[\"EdLevel\"])\n",
    "    return X.astype(float)\n",
    "\n",
    "sample = preprocess_input(\"United States\", \"Master’s degree\", 15)\n",
    "prediction = regressor_loaded.predict(sample)\n",
    "print(\"Predicted Salary:\", \"${:,.2f}\".format(prediction[0]))"
   ]
  }
 ],
 "metadata": {
  "kernelspec": {
   "display_name": "Python 3 (ipykernel)",
   "language": "python",
   "name": "python3"
  },
  "language_info": {
   "codemirror_mode": {
    "name": "ipython",
    "version": 3
   },
   "file_extension": ".py",
   "mimetype": "text/x-python",
   "name": "python",
   "nbconvert_exporter": "python",
   "pygments_lexer": "ipython3",
   "version": "3.12.4"
  }
 },
 "nbformat": 4,
 "nbformat_minor": 5
}
